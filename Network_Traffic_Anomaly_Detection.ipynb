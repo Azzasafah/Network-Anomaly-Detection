{
  "cells": [
    {
      "cell_type": "code",
      "execution_count": 1,
      "metadata": {
        "id": "0KogeVd5kuYH"
      },
      "outputs": [],
      "source": [
        "import pandas as pd\n",
        "import kagglehub\n",
        "import os\n",
        "from sklearn.preprocessing import LabelEncoder, StandardScaler\n",
        "from sklearn.ensemble import IsolationForest\n",
        "import matplotlib.pyplot as plt\n",
        "from tabulate import tabulate"
      ]
    },
    {
      "cell_type": "code",
      "execution_count": 2,
      "metadata": {
        "colab": {
          "base_uri": "https://localhost:8080/"
        },
        "id": "y6IsL5mtkY0G",
        "outputId": "84a21cd4-c4e5-49f5-b7d6-2ad4a207034c"
      },
      "outputs": [
        {
          "output_type": "stream",
          "name": "stdout",
          "text": [
            "Using Colab cache for faster access to the 'network-traffic-dataset' dataset.\n",
            "Path to dataset files: /kaggle/input/network-traffic-dataset\n",
            "['Midterm_53_group.csv', 'output1.csv']\n"
          ]
        }
      ],
      "source": [
        "import kagglehub\n",
        "# Download latest version\n",
        "path = kagglehub.dataset_download(\"ravikumargattu/network-traffic-dataset\")\n",
        "\n",
        "# Cek file yang ada pada folder\n",
        "print(\"Path to dataset files:\", path)\n",
        "print(os.listdir(path))\n",
        "file_path = os.path.join(path, \"Midterm_53_group.csv\")"
      ]
    },
    {
      "cell_type": "code",
      "execution_count": 3,
      "metadata": {
        "colab": {
          "base_uri": "https://localhost:8080/"
        },
        "id": "g6Sd53ymkme4",
        "outputId": "3b2f1272-a1d1-435b-cd1a-02499f5a3890"
      },
      "outputs": [
        {
          "output_type": "stream",
          "name": "stdout",
          "text": [
            "╒════╤══════════╤═════════════════╤═══════╤═════════════════╤════════════╤══════════╤═════════════════════════════════════════╕\n",
            "│    │     Time │ Source          │   No. │ Destination     │ Protocol   │   Length │ Info                                    │\n",
            "╞════╪══════════╪═════════════════╪═══════╪═════════════════╪════════════╪══════════╪═════════════════════════════════════════╡\n",
            "│  0 │ 0        │ 192.167.8.166   │     1 │ 192.167.255.255 │ NBNS       │       92 │ Name query NB WPAD<00>                  │\n",
            "├────┼──────────┼─────────────────┼───────┼─────────────────┼────────────┼──────────┼─────────────────────────────────────────┤\n",
            "│  1 │ 0.784682 │ 192.167.8.166   │     2 │ 192.167.255.255 │ NBNS       │       92 │ Name query NB WPAD<00>                  │\n",
            "├────┼──────────┼─────────────────┼───────┼─────────────────┼────────────┼──────────┼─────────────────────────────────────────┤\n",
            "│  2 │ 1.16906  │ VMware_8a:5c:e6 │     3 │ Broadcast       │ ARP        │       60 │ Who has 192.167.7.175? Tell 192.167.0.1 │\n",
            "├────┼──────────┼─────────────────┼───────┼─────────────────┼────────────┼──────────┼─────────────────────────────────────────┤\n",
            "│  3 │ 2.16795  │ VMware_8a:5c:e6 │     4 │ Broadcast       │ ARP        │       60 │ Who has 192.167.7.175? Tell 192.167.0.1 │\n",
            "├────┼──────────┼─────────────────┼───────┼─────────────────┼────────────┼──────────┼─────────────────────────────────────────┤\n",
            "│  4 │ 3.17009  │ VMware_8a:5c:e6 │     5 │ Broadcast       │ ARP        │       60 │ Who has 192.167.7.175? Tell 192.167.0.1 │\n",
            "╘════╧══════════╧═════════════════╧═══════╧═════════════════╧════════════╧══════════╧═════════════════════════════════════════╛\n"
          ]
        }
      ],
      "source": [
        "# Load salah satu csv\n",
        "df = pd.read_csv(file_path)\n",
        "print(tabulate(df.head(5), headers='keys', tablefmt='fancy_grid'))"
      ]
    },
    {
      "cell_type": "code",
      "execution_count": 4,
      "metadata": {
        "colab": {
          "base_uri": "https://localhost:8080/"
        },
        "id": "iW1rQCq3oG6z",
        "outputId": "9140165f-e9bc-42a0-9766-affb165c9c97"
      },
      "outputs": [
        {
          "output_type": "stream",
          "name": "stdout",
          "text": [
            "╒════╤═══════════════╤═══════════════╕\n",
            "│    │ column_name   │ column_type   │\n",
            "╞════╪═══════════════╪═══════════════╡\n",
            "│  0 │ Time          │ float64       │\n",
            "├────┼───────────────┼───────────────┤\n",
            "│  1 │ Source        │ object        │\n",
            "├────┼───────────────┼───────────────┤\n",
            "│  2 │ No.           │ int64         │\n",
            "├────┼───────────────┼───────────────┤\n",
            "│  3 │ Destination   │ object        │\n",
            "├────┼───────────────┼───────────────┤\n",
            "│  4 │ Protocol      │ object        │\n",
            "├────┼───────────────┼───────────────┤\n",
            "│  5 │ Length        │ int64         │\n",
            "├────┼───────────────┼───────────────┤\n",
            "│  6 │ Info          │ object        │\n",
            "╘════╧═══════════════╧═══════════════╛\n"
          ]
        }
      ],
      "source": [
        "# cek tipe data\n",
        "datatype = df.dtypes.reset_index()\n",
        "datatype.columns = ['column_name', 'column_type']\n",
        "print(tabulate(datatype, headers='keys', tablefmt='fancy_grid'))"
      ]
    },
    {
      "cell_type": "code",
      "execution_count": 5,
      "metadata": {
        "colab": {
          "base_uri": "https://localhost:8080/"
        },
        "id": "2GslzfcEtLnm",
        "outputId": "76aeb142-f5c1-46ba-f975-f73e1b891610"
      },
      "outputs": [
        {
          "output_type": "stream",
          "name": "stdout",
          "text": [
            "╒════╤═══════════════╤═════════════════╕\n",
            "│    │ column_name   │   missing_count │\n",
            "╞════╪═══════════════╪═════════════════╡\n",
            "│  0 │ Time          │               0 │\n",
            "├────┼───────────────┼─────────────────┤\n",
            "│  1 │ Source        │               0 │\n",
            "├────┼───────────────┼─────────────────┤\n",
            "│  2 │ No.           │               0 │\n",
            "├────┼───────────────┼─────────────────┤\n",
            "│  3 │ Destination   │               0 │\n",
            "├────┼───────────────┼─────────────────┤\n",
            "│  4 │ Protocol      │               0 │\n",
            "├────┼───────────────┼─────────────────┤\n",
            "│  5 │ Length        │               0 │\n",
            "├────┼───────────────┼─────────────────┤\n",
            "│  6 │ Info          │               0 │\n",
            "╘════╧═══════════════╧═════════════════╛\n"
          ]
        }
      ],
      "source": [
        "# cek missing data\n",
        "missing = df.isnull().sum().reset_index()\n",
        "missing.columns = ['column_name', 'missing_count']\n",
        "print(tabulate(missing, headers='keys', tablefmt='fancy_grid'))"
      ]
    },
    {
      "cell_type": "code",
      "execution_count": 6,
      "metadata": {
        "colab": {
          "base_uri": "https://localhost:8080/"
        },
        "id": "LPIqWFmwtVXv",
        "outputId": "1b58c7ee-fc95-4f6a-9ee8-b1910cd9ac9f"
      },
      "outputs": [
        {
          "output_type": "stream",
          "name": "stdout",
          "text": [
            "╒════╤═════════════════╤═════════╤════════════════════╕\n",
            "│    │ Source          │   Count │   duplicated_count │\n",
            "╞════╪═════════════════╪═════════╪════════════════════╡\n",
            "│  0 │ 192.167.7.162   │  116067 │             115471 │\n",
            "├────┼─────────────────┼─────────┼────────────────────┤\n",
            "│  1 │ 104.91.166.75   │   57238 │              57236 │\n",
            "├────┼─────────────────┼─────────┼────────────────────┤\n",
            "│  2 │ 74.125.9.169    │   37085 │              37082 │\n",
            "├────┼─────────────────┼─────────┼────────────────────┤\n",
            "│  3 │ 23.33.29.79     │   25918 │              25916 │\n",
            "├────┼─────────────────┼─────────┼────────────────────┤\n",
            "│  4 │ 173.194.133.202 │   22832 │              22829 │\n",
            "╘════╧═════════════════╧═════════╧════════════════════╛\n"
          ]
        }
      ],
      "source": [
        "# cek duplikasi data berdasarkan source, destination dan protocol\n",
        "df['is_duplicate'] = df.duplicated(subset=['Source', 'Destination' ,'Protocol'])\n",
        "totalcountIP = df['Source'].value_counts().reset_index()\n",
        "totalcountIP.columns = ['Source', 'Count']\n",
        "dupcountIP = df[df['is_duplicate']].groupby('Source').size().reset_index(name='duplicated_count')\n",
        "summary = totalcountIP.merge(dupcountIP, on='Source', how='left').fillna(0)\n",
        "\n",
        "print(tabulate(summary.head(5), headers='keys', tablefmt='fancy_grid'))"
      ]
    },
    {
      "cell_type": "code",
      "execution_count": 9,
      "metadata": {
        "id": "KYddSzfvxDkP",
        "colab": {
          "base_uri": "https://localhost:8080/"
        },
        "outputId": "ebfb403b-3ad0-425f-9769-333a32a162e3"
      },
      "outputs": [
        {
          "output_type": "stream",
          "name": "stdout",
          "text": [
            "Jumlah record:  394136\n",
            "Jumlah Unique Ip:  372\n",
            "Jumlah Unique Destination:  308\n"
          ]
        }
      ],
      "source": [
        "# cek record\n",
        "print('Jumlah record: ', len(df))\n",
        "print('Jumlah Unique Ip: ', df['Source'].nunique())\n",
        "print('Jumlah Unique Destination: ', df['Destination'].nunique())"
      ]
    },
    {
      "cell_type": "code",
      "source": [
        "# Copy data untuk encoded data\n",
        "df_encoded = df.copy()\n",
        "\n",
        "# encode protocol\n",
        "le = LabelEncoder()\n",
        "df_encoded['Protocol'] = le.fit_transform(df_encoded['Protocol'])\n",
        "\n",
        "# frequency / count encoding →\n",
        "# mengubah Source / Destination IP string menjadi angka numerik berdasarkan berapa sering IP itu muncul di dataset.\n",
        "\n",
        "# frequency masing-masing source IP\n",
        "freq_source = df['Source'].value_counts()\n",
        "# tambahkan kolom source_fe sebelah source\n",
        "df_encoded.insert(loc=2, column='Source_FE', value=df['Source'].map(freq_source))\n",
        "\n",
        "# frequency masing-masing destination IP\n",
        "freq_destination = df['Destination'].value_counts()\n",
        "# tambahkan kolom source_fe sebelah destination\n",
        "df_encoded.insert(loc=4, column='Destination_FE', value=df['Destination'].map(freq_destination))\n",
        "\n",
        "# pilih fitur yang relevan\n",
        "x = df_encoded[['Source_FE', 'Destination_FE', 'Protocol', 'Length', 'Time']]\n",
        "\n",
        "#scaling\n",
        "scaler = StandardScaler()\n",
        "x_scaled = scaler.fit_transform(x)\n",
        "\n",
        "# contamination=0.05 = sekitar 5% data dianggap anomaly oleh model\n",
        "iso = IsolationForest(contamination=0.01, random_state=42)\n",
        "y_pred = iso.fit_predict(x_scaled)\n",
        "\n",
        "#hasil -1 = anomali, 1 = normal\n",
        "df_encoded['anomaly'] = y_pred"
      ],
      "metadata": {
        "id": "IXq3JY_U3kwh"
      },
      "execution_count": 20,
      "outputs": []
    },
    {
      "cell_type": "code",
      "source": [
        "normal = df_encoded['anomaly'] == 1\n",
        "anomaly = df_encoded['anomaly'] == -1\n",
        "\n",
        "plt.scatter(df['Time'][normal], df['Length'][normal], c='blue', label='Normal', alpha=0.5)\n",
        "plt.scatter(df['Time'][anomaly], df['Length'][anomaly], c='red', label='Anomaly', alpha=0.5)\n",
        "plt.xlabel(\"Time\")\n",
        "plt.ylabel(\"Packet Length\")\n",
        "plt.title(\"Anomaly Detection in Network Traffic\")\n",
        "plt.grid(True)\n",
        "plt.ylim()\n",
        "plt.legend()\n",
        "plt.show()\n"
      ],
      "metadata": {
        "colab": {
          "base_uri": "https://localhost:8080/",
          "height": 472
        },
        "id": "6ubD_UzV_UKr",
        "outputId": "906355d0-4c67-4612-8b47-7242d0df2577"
      },
      "execution_count": 23,
      "outputs": [
        {
          "output_type": "display_data",
          "data": {
            "text/plain": [
              "<Figure size 640x480 with 1 Axes>"
            ],
            "image/png": "[encoded data removed]"
          },
          "metadata": {}
        }
      ]
    },
    {
      "cell_type": "code",
      "source": [
        "# Filter paket anomali\n",
        "anomalies = df_encoded[df_encoded['anomaly'] == -1].copy()\n",
        "\n",
        "# balikin kolom Protocol ke nama asli\n",
        "anomalies['Protocol'] = le.inverse_transform(anomalies['Protocol'])\n",
        "\n",
        "# hitung top 5 protocol terbanyak muncul di anomali\n",
        "protocol_counts = anomalies['Protocol'].value_counts().reset_index()\n",
        "protocol_counts.columns = ['Protocol', 'Count']  # rename kolom biar jelas\n",
        "\n",
        "from tabulate import tabulate\n",
        "print(tabulate(protocol_counts.head(5), headers='keys', tablefmt='fancy_grid'))\n",
        "\n",
        "# Top 5 Source IPs di anomali\n",
        "print(tabulate(anomalies['Source'].value_counts().reset_index().head(5),\n",
        "               headers=['Source IP', 'Count'], tablefmt='fancy_grid'))\n",
        "\n",
        "# Top 5 Destination IPs di anomali\n",
        "print(tabulate(anomalies['Destination'].value_counts().reset_index().head(5),\n",
        "               headers=['Destination IP', 'Count'], tablefmt='fancy_grid'))\n"
      ],
      "metadata": {
        "colab": {
          "base_uri": "https://localhost:8080/"
        },
        "id": "3NbJ1hPsA6h3",
        "outputId": "fdc35bd9-2480-4a72-d6d8-abeac16d9b9a"
      },
      "execution_count": 28,
      "outputs": [
        {
          "output_type": "stream",
          "name": "stdout",
          "text": [
            "╒════╤════════════╤═════════╕\n",
            "│    │ Protocol   │   Count │\n",
            "╞════╪════════════╪═════════╡\n",
            "│  0 │ TLSv1.3    │    1341 │\n",
            "├────┼────────────┼─────────┤\n",
            "│  1 │ ICMP       │     903 │\n",
            "├────┼────────────┼─────────┤\n",
            "│  2 │ DNS        │     746 │\n",
            "├────┼────────────┼─────────┤\n",
            "│  3 │ ARP        │     447 │\n",
            "├────┼────────────┼─────────┤\n",
            "│  4 │ TCP        │     390 │\n",
            "╘════╧════════════╧═════════╛\n",
            "╒════╤═════════════════╤═════════╕\n",
            "│    │ Source IP       │   Count │\n",
            "╞════╪═════════════════╪═════════╡\n",
            "│  0 │ 192.167.7.162   │    2642 │\n",
            "├────┼─────────────────┼─────────┤\n",
            "│  1 │ 192.167.7.157   │     330 │\n",
            "├────┼─────────────────┼─────────┤\n",
            "│  2 │ 10.27.3.2       │     203 │\n",
            "├────┼─────────────────┼─────────┤\n",
            "│  3 │ 192.167.7.164   │     195 │\n",
            "├────┼─────────────────┼─────────┤\n",
            "│  4 │ VMware_8a:5c:e6 │     106 │\n",
            "╘════╧═════════════════╧═════════╛\n",
            "╒════╤══════════════════╤═════════╕\n",
            "│    │ Destination IP   │   Count │\n",
            "╞════╪══════════════════╪═════════╡\n",
            "│  0 │ 146.75.78.73     │    1217 │\n",
            "├────┼──────────────────┼─────────┤\n",
            "│  1 │ 10.27.3.2        │     500 │\n",
            "├────┼──────────────────┼─────────┤\n",
            "│  2 │ 192.167.7.162    │     414 │\n",
            "├────┼──────────────────┼─────────┤\n",
            "│  3 │ 192.167.7.164    │     377 │\n",
            "├────┼──────────────────┼─────────┤\n",
            "│  4 │ 255.255.255.255  │     347 │\n",
            "╘════╧══════════════════╧═════════╛\n"
          ]
        }
      ]
    },
    {
      "cell_type": "code",
      "source": [
        "from ipywidgets import interact\n",
        "\n",
        "@interact(protocol=anomalies['Protocol'].unique())\n",
        "def show_ip(protocol):\n",
        "    subset = anomalies[anomalies['Protocol'] == protocol]\n",
        "    print(subset[['Source','Destination']].head(10))"
      ],
      "metadata": {
        "colab": {
          "base_uri": "https://localhost:8080/",
          "height": 205,
          "referenced_widgets": [
            "1dbcbd524ba64e09a4d659d09b6225eb",
            "fc4b1bd7329a418ab5085dae6e97eeac",
            "e2eaf5a2e39645c6821a5b8b4374df7c",
            "707599bfa0d34cfab7c0337042295c6d",
            "daa09d94858a4f78b827c2afcebff781",
            "f34954af4135455da6059076668663fb",
            "0e1ccff03c134314b532cd1d1ee9ec35"
          ]
        },
        "id": "8r8op5vmCgDi",
        "outputId": "fadb3c81-446a-4ff6-8712-25282ae495bd"
      },
      "execution_count": 34,
      "outputs": [
        {
          "output_type": "display_data",
          "data": {
            "text/plain": [
              "interactive(children=(Dropdown(description='protocol', options=('NBNS', 'ARP', 'BROWSER', 'ICMPv6', 'DHCP', 'I…"
            ],
            "application/vnd.jupyter.widget-view+json": {
              "version_major": 2,
              "version_minor": 0,
              "model_id": "1dbcbd524ba64e09a4d659d09b6225eb"
            }
          },
          "metadata": {}
        }
      ]
    },
    {
      "cell_type": "code",
      "source": [
        "# Top 5 source IP anomalies\n",
        "top_5_source_ips = anomalies['Source'].value_counts().head(5)\n",
        "\n",
        "plt.figure(figsize=(10, 6))\n",
        "top_5_source_ips.plot(kind='bar', color='lightcoral')\n",
        "plt.title('Top 5 Source IPs in Anomalies')\n",
        "plt.xlabel('Source IP')\n",
        "plt.ylabel('Count')\n",
        "plt.xticks(rotation=45, ha='right')\n",
        "plt.grid(axis='y', linestyle='--', alpha=0.7)\n",
        "plt.tight_layout()\n",
        "plt.show()"
      ],
      "metadata": {
        "colab": {
          "base_uri": "https://localhost:8080/",
          "height": 372
        },
        "id": "7nCHoRdbB2dc",
        "outputId": "14c622ec-938b-4551-96a9-8b48d0d4e232"
      },
      "execution_count": 29,
      "outputs": [
        {
          "output_type": "display_data",
          "data": {
            "text/plain": [
              "<Figure size 1000x600 with 1 Axes>"
            ],
            "image/png": "[encoded data removed]"
          },
          "metadata": {}
        }
      ]
    },
    {
      "cell_type": "code",
      "source": [
        "# Top 5 Destination IP anomalies\n",
        "top_5_dest_ips = anomalies['Destination'].value_counts().head(5)\n",
        "\n",
        "plt.figure(figsize=(10, 6))\n",
        "top_5_dest_ips.plot(kind='bar', color='mediumseagreen')\n",
        "plt.title('Top 5 Destination IPs in Anomalies')\n",
        "plt.xlabel('Destination IP')\n",
        "plt.ylabel('Count')\n",
        "plt.xticks(rotation=45, ha='right')\n",
        "plt.grid(axis='y', linestyle='--', alpha=0.7)\n",
        "plt.tight_layout()\n",
        "plt.show()"
      ],
      "metadata": {
        "id": "mDE0pf6KB-gI"
      },
      "execution_count": null,
      "outputs": []
    },
    {
      "cell_type": "code",
      "source": [
        "# Top 5 Protocol anomalies\n",
        "top_5_protocol = protocol_counts.head(5)\n",
        "\n",
        "plt.figure(figsize=(8,5))\n",
        "plt.bar(top_5_protocol['Protocol'], top_5_protocol['Count'], color='skyblue', edgecolor='black')\n",
        "plt.title(\"Top 5 Protocol di Paket Anomali\")\n",
        "plt.xlabel(\"Protocol\")\n",
        "plt.ylabel(\"Jumlah Anomali\")\n",
        "plt.show()"
      ],
      "metadata": {
        "colab": {
          "base_uri": "https://localhost:8080/",
          "height": 414
        },
        "id": "IQ31dcFZCNv9",
        "outputId": "86c1a36b-7640-403b-dff6-d692d5c7dfa9"
      },
      "execution_count": 31,
      "outputs": [
        {
          "output_type": "display_data",
          "data": {
            "text/plain": [
              "<Figure size 800x500 with 1 Axes>"
            ],
            "image/png": "[encoded data removed]"
          },
          "metadata": {}
        }
      ]
    }
  ],
  "metadata": {
    "colab": {
      "provenance": []
    },
    "kernelspec": {
      "display_name": "Python 3",
      "name": "python3"
    },
    "language_info": {
      "name": "python"
    },
    "widgets": {
      "application/vnd.jupyter.widget-state+json": {
        "1dbcbd524ba64e09a4d659d09b6225eb": {
          "model_module": "@jupyter-widgets/controls",
          "model_name": "VBoxModel",
          "model_module_version": "1.5.0",
          "state": {
            "_dom_classes": [
              "widget-interact"
            ],
            "_model_module": "@jupyter-widgets/controls",
            "_model_module_version": "1.5.0",
            "_model_name": "VBoxModel",
            "_view_count": null,
            "_view_module": "@jupyter-widgets/controls",
            "_view_module_version": "1.5.0",
            "_view_name": "VBoxView",
            "box_style": "",
            "children": [
              "IPY_MODEL_fc4b1bd7329a418ab5085dae6e97eeac",
              "IPY_MODEL_e2eaf5a2e39645c6821a5b8b4374df7c"
            ],
            "layout": "IPY_MODEL_707599bfa0d34cfab7c0337042295c6d"
          }
        },
        "fc4b1bd7329a418ab5085dae6e97eeac": {
          "model_module": "@jupyter-widgets/controls",
          "model_name": "DropdownModel",
          "model_module_version": "1.5.0",
          "state": {
            "_dom_classes": [],
            "_model_module": "@jupyter-widgets/controls",
            "_model_module_version": "1.5.0",
            "_model_name": "DropdownModel",
            "_options_labels": [
              "NBNS",
              "ARP",
              "BROWSER",
              "ICMPv6",
              "DHCP",
              "ICMP",
              "DNS",
              "TLSv1.2",
              "TLSv1.3",
              "TCP"
            ],
            "_view_count": null,
            "_view_module": "@jupyter-widgets/controls",
            "_view_module_version": "1.5.0",
            "_view_name": "DropdownView",
            "description": "protocol",
            "description_tooltip": null,
            "disabled": false,
            "index": 2,
            "layout": "IPY_MODEL_daa09d94858a4f78b827c2afcebff781",
            "style": "IPY_MODEL_f34954af4135455da6059076668663fb"
          }
        },
        "e2eaf5a2e39645c6821a5b8b4374df7c": {
          "model_module": "@jupyter-widgets/output",
          "model_name": "OutputModel",
          "model_module_version": "1.0.0",
          "state": {
            "_dom_classes": [],
            "_model_module": "@jupyter-widgets/output",
            "_model_module_version": "1.0.0",
            "_model_name": "OutputModel",
            "_view_count": null,
            "_view_module": "@jupyter-widgets/output",
            "_view_module_version": "1.0.0",
            "_view_name": "OutputView",
            "layout": "IPY_MODEL_0e1ccff03c134314b532cd1d1ee9ec35",
            "msg_id": "",
            "outputs": [
              {
                "output_type": "stream",
                "name": "stdout",
                "text": [
                  "               Source      Destination\n",
                  "25      192.167.6.248  192.167.255.255\n",
                  "606     192.167.8.160  192.167.255.255\n",
                  "619     192.167.5.122  192.167.255.255\n",
                  "248710  192.167.8.160  192.167.255.255\n",
                  "253914  192.167.5.122  192.167.255.255\n",
                  "280855  192.167.7.191  192.167.255.255\n",
                  "300861  192.167.7.191  192.167.255.255\n",
                  "341584  192.167.7.191  192.167.255.255\n"
                ]
              }
            ]
          }
        },
        "707599bfa0d34cfab7c0337042295c6d": {
          "model_module": "@jupyter-widgets/base",
          "model_name": "LayoutModel",
          "model_module_version": "1.2.0",
          "state": {
            "_model_module": "@jupyter-widgets/base",
            "_model_module_version": "1.2.0",
            "_model_name": "LayoutModel",
            "_view_count": null,
            "_view_module": "@jupyter-widgets/base",
            "_view_module_version": "1.2.0",
            "_view_name": "LayoutView",
            "align_content": null,
            "align_items": null,
            "align_self": null,
            "border": null,
            "bottom": null,
            "display": null,
            "flex": null,
            "flex_flow": null,
            "grid_area": null,
            "grid_auto_columns": null,
            "grid_auto_flow": null,
            "grid_auto_rows": null,
            "grid_column": null,
            "grid_gap": null,
            "grid_row": null,
            "grid_template_areas": null,
            "grid_template_columns": null,
            "grid_template_rows": null,
            "height": null,
            "justify_content": null,
            "justify_items": null,
            "left": null,
            "margin": null,
            "max_height": null,
            "max_width": null,
            "min_height": null,
            "min_width": null,
            "object_fit": null,
            "object_position": null,
            "order": null,
            "overflow": null,
            "overflow_x": null,
            "overflow_y": null,
            "padding": null,
            "right": null,
            "top": null,
            "visibility": null,
            "width": null
          }
        },
        "daa09d94858a4f78b827c2afcebff781": {
          "model_module": "@jupyter-widgets/base",
          "model_name": "LayoutModel",
          "model_module_version": "1.2.0",
          "state": {
            "_model_module": "@jupyter-widgets/base",
            "_model_module_version": "1.2.0",
            "_model_name": "LayoutModel",
            "_view_count": null,
            "_view_module": "@jupyter-widgets/base",
            "_view_module_version": "1.2.0",
            "_view_name": "LayoutView",
            "align_content": null,
            "align_items": null,
            "align_self": null,
            "border": null,
            "bottom": null,
            "display": null,
            "flex": null,
            "flex_flow": null,
            "grid_area": null,
            "grid_auto_columns": null,
            "grid_auto_flow": null,
            "grid_auto_rows": null,
            "grid_column": null,
            "grid_gap": null,
            "grid_row": null,
            "grid_template_areas": null,
            "grid_template_columns": null,
            "grid_template_rows": null,
            "height": null,
            "justify_content": null,
            "justify_items": null,
            "left": null,
            "margin": null,
            "max_height": null,
            "max_width": null,
            "min_height": null,
            "min_width": null,
            "object_fit": null,
            "object_position": null,
            "order": null,
            "overflow": null,
            "overflow_x": null,
            "overflow_y": null,
            "padding": null,
            "right": null,
            "top": null,
            "visibility": null,
            "width": null
          }
        },
        "f34954af4135455da6059076668663fb": {
          "model_module": "@jupyter-widgets/controls",
          "model_name": "DescriptionStyleModel",
          "model_module_version": "1.5.0",
          "state": {
            "_model_module": "@jupyter-widgets/controls",
            "_model_module_version": "1.5.0",
            "_model_name": "DescriptionStyleModel",
            "_view_count": null,
            "_view_module": "@jupyter-widgets/base",
            "_view_module_version": "1.2.0",
            "_view_name": "StyleView",
            "description_width": ""
          }
        },
        "0e1ccff03c134314b532cd1d1ee9ec35": {
          "model_module": "@jupyter-widgets/base",
          "model_name": "LayoutModel",
          "model_module_version": "1.2.0",
          "state": {
            "_model_module": "@jupyter-widgets/base",
            "_model_module_version": "1.2.0",
            "_model_name": "LayoutModel",
            "_view_count": null,
            "_view_module": "@jupyter-widgets/base",
            "_view_module_version": "1.2.0",
            "_view_name": "LayoutView",
            "align_content": null,
            "align_items": null,
            "align_self": null,
            "border": null,
            "bottom": null,
            "display": null,
            "flex": null,
            "flex_flow": null,
            "grid_area": null,
            "grid_auto_columns": null,
            "grid_auto_flow": null,
            "grid_auto_rows": null,
            "grid_column": null,
            "grid_gap": null,
            "grid_row": null,
            "grid_template_areas": null,
            "grid_template_columns": null,
            "grid_template_rows": null,
            "height": null,
            "justify_content": null,
            "justify_items": null,
            "left": null,
            "margin": null,
            "max_height": null,
            "max_width": null,
            "min_height": null,
            "min_width": null,
            "object_fit": null,
            "object_position": null,
            "order": null,
            "overflow": null,
            "overflow_x": null,
            "overflow_y": null,
            "padding": null,
            "right": null,
            "top": null,
            "visibility": null,
            "width": null
          }
        }
      }
    }
  },
  "nbformat": 4,
  "nbformat_minor": 0
}